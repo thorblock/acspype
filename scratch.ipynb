{
 "cells": [
  {
   "metadata": {
    "ExecuteTime": {
     "end_time": "2025-04-26T05:28:30.419508Z",
     "start_time": "2025-04-26T05:28:30.416009Z"
    }
   },
   "cell_type": "code",
   "source": [
    "from acspype.computation import compute_external_temperature\n",
    "import numpy as np\n",
    "import xarray as xr"
   ],
   "id": "2ff000945785b957",
   "outputs": [],
   "execution_count": 22
  },
  {
   "metadata": {
    "ExecuteTime": {
     "end_time": "2025-04-26T05:25:13.818108Z",
     "start_time": "2025-04-26T05:25:13.814250Z"
    }
   },
   "cell_type": "code",
   "source": "compute_external_temperature(np.array(50000))",
   "id": "43696280a9de4555",
   "outputs": [
    {
     "data": {
      "text/plain": [
       "np.float64(-9.152363050000005)"
      ]
     },
     "execution_count": 17,
     "metadata": {},
     "output_type": "execute_result"
    }
   ],
   "execution_count": 17
  },
  {
   "metadata": {
    "ExecuteTime": {
     "end_time": "2025-04-26T05:29:01.147748Z",
     "start_time": "2025-04-26T05:29:01.144424Z"
    }
   },
   "cell_type": "code",
   "source": "test = np.array(np.arange(1100,46000,100))",
   "id": "155884f00b4d4bac",
   "outputs": [],
   "execution_count": 26
  },
  {
   "metadata": {
    "ExecuteTime": {
     "end_time": "2025-04-26T05:29:09.327567Z",
     "start_time": "2025-04-26T05:29:02.808788Z"
    }
   },
   "cell_type": "code",
   "source": "%timeit compute_external_temperature(test)",
   "id": "90579eae3ca094f5",
   "outputs": [
    {
     "name": "stdout",
     "output_type": "stream",
     "text": [
      "7.95 μs ± 212 ns per loop (mean ± std. dev. of 7 runs, 100,000 loops each)\n"
     ]
    }
   ],
   "execution_count": 27
  },
  {
   "metadata": {
    "ExecuteTime": {
     "end_time": "2025-04-26T05:29:09.332040Z",
     "start_time": "2025-04-26T05:29:09.327567Z"
    }
   },
   "cell_type": "code",
   "source": "ds = xr.DataArray(test)",
   "id": "e7c5c4f454f09378",
   "outputs": [],
   "execution_count": 28
  },
  {
   "metadata": {
    "ExecuteTime": {
     "end_time": "2025-04-26T05:29:11.689677Z",
     "start_time": "2025-04-26T05:29:09.333045Z"
    }
   },
   "cell_type": "code",
   "source": "%timeit compute_external_temperature(ds)",
   "id": "4924ba0472f3ffd9",
   "outputs": [
    {
     "name": "stdout",
     "output_type": "stream",
     "text": [
      "290 μs ± 2.97 μs per loop (mean ± std. dev. of 7 runs, 1,000 loops each)\n"
     ]
    }
   ],
   "execution_count": 29
  },
  {
   "metadata": {},
   "cell_type": "code",
   "outputs": [],
   "execution_count": null,
   "source": "",
   "id": "26d9a09c4e5af229"
  }
 ],
 "metadata": {
  "kernelspec": {
   "display_name": "Python 3",
   "language": "python",
   "name": "python3"
  },
  "language_info": {
   "codemirror_mode": {
    "name": "ipython",
    "version": 2
   },
   "file_extension": ".py",
   "mimetype": "text/x-python",
   "name": "python",
   "nbconvert_exporter": "python",
   "pygments_lexer": "ipython2",
   "version": "2.7.6"
  }
 },
 "nbformat": 4,
 "nbformat_minor": 5
}
