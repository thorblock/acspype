{
 "cells": [
  {
   "cell_type": "code",
   "id": "initial_id",
   "metadata": {
    "collapsed": true,
    "ExecuteTime": {
     "end_time": "2025-04-23T19:40:25.100202Z",
     "start_time": "2025-04-23T19:40:24.449081Z"
    }
   },
   "source": "from acspype.tscor import ACSTS4CorReader",
   "outputs": [],
   "execution_count": 1
  },
  {
   "metadata": {
    "ExecuteTime": {
     "end_time": "2025-04-23T19:40:25.119754Z",
     "start_time": "2025-04-23T19:40:25.100202Z"
    }
   },
   "cell_type": "code",
   "source": "tscor = ACSTS4CorReader('TS4.cor')",
   "id": "1a3eec62fe198cad",
   "outputs": [],
   "execution_count": 2
  },
  {
   "metadata": {
    "ExecuteTime": {
     "end_time": "2025-04-23T19:40:25.125217Z",
     "start_time": "2025-04-23T19:40:25.119754Z"
    }
   },
   "cell_type": "code",
   "source": [
    "wavelengths = tuple(map(float,tscor.wavelengths))\n",
    "psi_s_a = tuple(map(float,tscor.psi_s_a))\n",
    "psi_s_c = tuple(map(float,tscor.psi_s_c))\n",
    "psi_t = tuple(map(float,tscor.psi_t))"
   ],
   "id": "d46d173bf804a8b",
   "outputs": [],
   "execution_count": 3
  },
  {
   "metadata": {
    "ExecuteTime": {
     "end_time": "2025-04-23T19:40:25.263350Z",
     "start_time": "2025-04-23T19:40:25.126238Z"
    }
   },
   "cell_type": "code",
   "source": [
    "tscor_dict = {}\n",
    "for wavelength in wavelengths:\n",
    "    tscor_dict[wavelength] = {\n",
    "        'psi_s_a': psi_s_a[wavelengths.index(wavelength)],\n",
    "        'psi_s_c': psi_s_c[wavelengths.index(wavelength)],\n",
    "        'psi_t': psi_t[wavelengths.index(wavelength)]\n",
    "    }"
   ],
   "id": "7595502441001c74",
   "outputs": [],
   "execution_count": 4
  },
  {
   "metadata": {
    "ExecuteTime": {
     "end_time": "2025-04-23T19:40:25.284406Z",
     "start_time": "2025-04-23T19:40:25.263350Z"
    }
   },
   "cell_type": "code",
   "source": [
    "filename = 'ts4cor.py'\n",
    "filepath = f'../../acspype/{filename}'\n",
    "with open(filepath, 'w') as f:\n",
    "    f.write('\"\"\"\\nThis file was automatically generated from the TS4.cor file that accompanies all ACS sensors \\nusing ts4cor_py_conversion.ipynb. ')\n",
    "    f.write('The TS4COR variable is a dictionary with the wavelength as the key and the coefficients \\nas the value in the form of a dictionary. ')\n",
    "    f.write('The TS4COR variable takes up approximately 150 kB of memory.\\n\"\"\"')\n",
    "    f.write('\\n\\n')\n",
    "    f.write('TS4COR = {\\n')\n",
    "    for wavelength in wavelengths:\n",
    "        f.write(f'\\t{wavelength}: {tscor_dict[wavelength]},\\n')\n",
    "    f.write('}\\n')"
   ],
   "id": "c91794a502c309f",
   "outputs": [],
   "execution_count": 5
  },
  {
   "metadata": {
    "ExecuteTime": {
     "end_time": "2025-04-23T19:40:25.288193Z",
     "start_time": "2025-04-23T19:40:25.285334Z"
    }
   },
   "cell_type": "code",
   "source": "",
   "id": "24e054869b257ffb",
   "outputs": [],
   "execution_count": 5
  }
 ],
 "metadata": {
  "kernelspec": {
   "display_name": "Python 3",
   "language": "python",
   "name": "python3"
  },
  "language_info": {
   "codemirror_mode": {
    "name": "ipython",
    "version": 2
   },
   "file_extension": ".py",
   "mimetype": "text/x-python",
   "name": "python",
   "nbconvert_exporter": "python",
   "pygments_lexer": "ipython2",
   "version": "2.7.6"
  }
 },
 "nbformat": 4,
 "nbformat_minor": 5
}
