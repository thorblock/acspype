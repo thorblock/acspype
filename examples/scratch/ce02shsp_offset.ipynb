{
 "cells": [
  {
   "metadata": {},
   "cell_type": "markdown",
   "source": "## Import Required Packages for this Example",
   "id": "8692efc86af14bf2"
  },
  {
   "metadata": {
    "ExecuteTime": {
     "end_time": "2025-05-06T22:44:09.774549Z",
     "start_time": "2025-05-06T22:44:06.872926Z"
    }
   },
   "cell_type": "code",
   "source": [
    "import gsw\n",
    "import matplotlib.pyplot as plt\n",
    "from matplotlib.ticker import MultipleLocator\n",
    "import numpy as np\n",
    "import xarray as xr\n",
    "\n",
    "from acspype.utils.ooi import download_and_load_goldcopy, reformat_ooi_optaa, get_ooi_optaa_cal\n",
    "import acspype.processing as acsproc\n",
    "import acspype.qaqc as acsqaqc\n",
    "from acspype.tscor import ACSTSCor"
   ],
   "id": "d4de3f982047c94c",
   "outputs": [],
   "execution_count": 1
  },
  {
   "metadata": {
    "ExecuteTime": {
     "end_time": "2025-05-06T22:44:10.007920Z",
     "start_time": "2025-05-06T22:44:09.776570Z"
    }
   },
   "cell_type": "code",
   "source": [
    "acs_url = 'https://thredds.dataexplorer.oceanobservatories.org/thredds/fileServer/ooigoldcopy/public/CE02SHSP-SP001-04-OPTAAJ000-recovered_cspp-optaa_dj_cspp_instrument_recovered/deployment0013_CE02SHSP-SP001-04-OPTAAJ000-recovered_cspp-optaa_dj_cspp_instrument_recovered_20190624T165543.774000-20190627T023924.583000.nc'\n",
    "acs = download_and_load_goldcopy(thredds_fileserver_url=acs_url,\n",
    "                                 save_dir = 'ooi_data/')"
   ],
   "id": "49f5610e4d3d5d07",
   "outputs": [],
   "execution_count": 2
  },
  {
   "metadata": {
    "ExecuteTime": {
     "end_time": "2025-05-06T22:44:12.336292Z",
     "start_time": "2025-05-06T22:44:10.818318Z"
    }
   },
   "cell_type": "code",
   "source": [
    "acs = reformat_ooi_optaa(ds = acs)\n",
    "acs = acs.sel(latitude = float(acs.latitude), longitude = float(acs.longitude), deployment = int(acs.deployment))"
   ],
   "id": "6a35bb488ff34220",
   "outputs": [],
   "execution_count": 3
  },
  {
   "metadata": {
    "ExecuteTime": {
     "end_time": "2025-05-06T22:44:15.645228Z",
     "start_time": "2025-05-06T22:44:15.478547Z"
    }
   },
   "cell_type": "code",
   "source": "acs_dev = get_ooi_optaa_cal(ds = acs) # The get_ooi_optaa_cal function uses the uid in the dataset attributes.",
   "id": "ff31bc08d402012e",
   "outputs": [],
   "execution_count": 4
  },
  {
   "metadata": {
    "ExecuteTime": {
     "end_time": "2025-05-06T22:44:24.106750Z",
     "start_time": "2025-05-06T22:44:24.088653Z"
    }
   },
   "cell_type": "code",
   "source": "acs['internal_temperature'] = acsproc.compute_internal_temperature(counts = acs.raw_internal_temperature)",
   "id": "a6964392491f445c",
   "outputs": [],
   "execution_count": 5
  },
  {
   "metadata": {
    "ExecuteTime": {
     "end_time": "2025-05-06T22:44:26.249687Z",
     "start_time": "2025-05-06T22:44:26.201617Z"
    }
   },
   "cell_type": "code",
   "source": [
    "acs['sea_water_absolute_salinity'] = gsw.SA_from_SP(acs.sea_water_practical_salinity, acs.sea_water_pressure, acs.longitude, acs.latitude)\n",
    "acs['sea_water_conservative_temperature'] = gsw.CT_from_t(acs.sea_water_absolute_salinity, acs.sea_water_temperature, acs.sea_water_pressure)"
   ],
   "id": "5f2a5df1b9f7a9e9",
   "outputs": [],
   "execution_count": 6
  },
  {
   "metadata": {
    "ExecuteTime": {
     "end_time": "2025-05-06T22:44:29.411605Z",
     "start_time": "2025-05-06T22:44:29.280297Z"
    }
   },
   "cell_type": "code",
   "source": [
    "acs['a_uncorrected'] = acsproc.compute_uncorrected(signal_counts=acs.a_signal, \n",
    "                                                   reference_counts = acs.a_reference, \n",
    "                                                   path_length=acs_dev.path_length)\n",
    "\n",
    "acs['c_uncorrected'] = acsproc.compute_uncorrected(signal_counts=acs.c_signal, \n",
    "                                                   reference_counts=acs.c_reference, \n",
    "                                                   path_length =acs_dev.path_length)"
   ],
   "id": "636ccc3532a8f7cb",
   "outputs": [
    {
     "name": "stderr",
     "output_type": "stream",
     "text": [
      "C:\\Users\\Ian\\phd\\projects\\acspype\\.venv\\Lib\\site-packages\\xarray\\computation\\apply_ufunc.py:818: RuntimeWarning: divide by zero encountered in log\n",
      "  result_data = func(*input_data)\n",
      "C:\\Users\\Ian\\phd\\projects\\acspype\\.venv\\Lib\\site-packages\\xarray\\computation\\apply_ufunc.py:818: RuntimeWarning: divide by zero encountered in log\n",
      "  result_data = func(*input_data)\n"
     ]
    }
   ],
   "execution_count": 7
  },
  {
   "metadata": {
    "ExecuteTime": {
     "end_time": "2025-05-06T22:44:33.590197Z",
     "start_time": "2025-05-06T22:44:33.381119Z"
    }
   },
   "cell_type": "code",
   "source": [
    "acs['a_m_discontinuity'] = acsproc.compute_measured(acs.a_uncorrected, acs.internal_temperature, acs_dev.a_offset, acs_dev.func_a_delta_t)\n",
    "acs['c_m_discontinuity'] = acsproc.compute_measured(acs.c_uncorrected, acs.internal_temperature, acs_dev.c_offset, acs_dev.func_c_delta_t)"
   ],
   "id": "f5c9eed96b0e3daf",
   "outputs": [],
   "execution_count": 8
  },
  {
   "metadata": {
    "ExecuteTime": {
     "end_time": "2025-05-06T22:45:18.923871Z",
     "start_time": "2025-05-06T22:44:35.204441Z"
    }
   },
   "cell_type": "code",
   "source": [
    "discontinuity_index = acsproc.find_discontinuity_index(a_wavelength = acs.a_wavelength, \n",
    "                                                       c_wavelength = acs.c_wavelength)\n",
    "acs['a_m'], acs['a_discontinuity_offset'] = acsproc.discontinuity_correction(measured = acs.a_m_discontinuity,\n",
    "                                                                             discontinuity_index=discontinuity_index,\n",
    "                                                                             wavelength_dim='a_wavelength')\n",
    "acs['c_m'], acs['c_discontinuity_offset'] = acsproc.discontinuity_correction(measured = acs.c_m_discontinuity,\n",
    "                                                                             discontinuity_index=discontinuity_index,\n",
    "                                                                             wavelength_dim='c_wavelength')"
   ],
   "id": "fc919d2adc1b840",
   "outputs": [],
   "execution_count": 9
  },
  {
   "metadata": {
    "ExecuteTime": {
     "end_time": "2025-05-06T22:48:25.667008Z",
     "start_time": "2025-05-06T22:48:25.003962Z"
    }
   },
   "cell_type": "code",
   "source": [
    "offset_top = acs.where(acs.depth < 5, drop = True)[['a_discontinuity_offset', 'c_discontinuity_offset']]\n",
    "offset_bot = acs.where(acs.depth > 65, drop = True)[['a_discontinuity_offset', 'c_discontinuity_offset']]"
   ],
   "id": "387ab4f16de88f34",
   "outputs": [],
   "execution_count": 19
  },
  {
   "metadata": {
    "ExecuteTime": {
     "end_time": "2025-05-06T22:47:39.670115Z",
     "start_time": "2025-05-06T22:47:39.237653Z"
    }
   },
   "cell_type": "code",
   "source": [
    "fig, ax = plt.subplots(2,1, figsize = (12,5), constrained_layout=True)\n",
    "\n",
    "ax[0].plot(offset_top.time, offset_top.a_discontinuity_offset, 'o', color = 'C0', label = 'A Discontinuity Offset Top')\n",
    "\n",
    "\n",
    "ax[1].plot(offset_bot.time, offset_bot.a_discontinuity_offset, 'o', color = 'C0', label = 'A Discontinuity Offset Bottom')"
   ],
   "id": "b3ede0416b4f391",
   "outputs": [
    {
     "data": {
      "text/plain": [
       "[<matplotlib.lines.Line2D at 0x20c50dba0f0>]"
      ]
     },
     "execution_count": 17,
     "metadata": {},
     "output_type": "execute_result"
    },
    {
     "data": {
      "text/plain": [
       "<Figure size 1200x500 with 2 Axes>"
      ],
      "image/png": "[encoded data removed]"
     },
     "metadata": {},
     "output_type": "display_data"
    }
   ],
   "execution_count": 17
  },
  {
   "metadata": {},
   "cell_type": "code",
   "outputs": [],
   "execution_count": null,
   "source": "",
   "id": "701c3a5afcb0b2b5"
  }
 ],
 "metadata": {
  "kernelspec": {
   "display_name": "Python 3",
   "language": "python",
   "name": "python3"
  },
  "language_info": {
   "codemirror_mode": {
    "name": "ipython",
    "version": 2
   },
   "file_extension": ".py",
   "mimetype": "text/x-python",
   "name": "python",
   "nbconvert_exporter": "python",
   "pygments_lexer": "ipython2",
   "version": "2.7.6"
  }
 },
 "nbformat": 4,
 "nbformat_minor": 5
}
