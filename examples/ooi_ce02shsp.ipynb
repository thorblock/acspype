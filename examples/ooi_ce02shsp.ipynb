{
 "cells": [
  {
   "metadata": {},
   "cell_type": "markdown",
   "source": [
    "# Example: OOI Profiler Data\n",
    "\n",
    "In order to use the OOI utility functions, you first need to put your OOI API credentials in a .netrc file in your home directory. The .netrc entry should look like this:\n",
    "\n",
    "```\n",
    "machine ooinet.oceanobservatories.org\n",
    "login your_ooi_username\n",
    "password your_ooi_token\n",
    "```\n",
    "\n",
    "\n",
    "The Ocean Observatories Initiative has assigned the ACS Spectrophotometer with the generic name of OPTAA (Optical Absorption and Attenuation). Currently, OPTAAC, OPTAAD, and OPTAAJ are the \"types\" for the sensor. \n",
    "The only difference between the C, D, and J variants are the deployment locations and the housing depth limitations. OPTAAC and OPTAAD indicate that the ACS is located at fixed depth on a fixed location platform. OPTAAJ denotes that the sensor is located on a profiler.\n",
    "They all produce the same data and would use acspype in the same processing steps.\n",
    "\n",
    "In this example, we will use OPTAAJ and ECO-Triplet Fluorometer (FLORTJ) data from the Oregon Shelf Surface Piercing Profiler (CE02SHSP) Deployment 13. The data in this example was downloaded from the OOI GoldCopy Catalog, which contains the most up-to-date versions of OOI data. acspype.utils.ooi provides a convenience function for downloading a OOI THREDDS file.\n",
    "\n",
    "Information about the OPTAA dataset, including the download URL, can be found here:\n",
    "https://thredds.dataexplorer.oceanobservatories.org/thredds/catalog/ooigoldcopy/public/CE02SHSP-SP001-04-OPTAAJ000-recovered_cspp-optaa_dj_cspp_instrument_recovered/catalog.html?dataset=ooigoldcopy/public/CE02SHSP-SP001-04-OPTAAJ000-recovered_cspp-optaa_dj_cspp_instrument_recovered/deployment0013_CE02SHSP-SP001-04-OPTAAJ000-recovered_cspp-optaa_dj_cspp_instrument_recovered_20190624T165543.774000-20190627T023924.583000.nc\n",
    "\n",
    "Information about the FLORT datase, including the download URL, can be found here:\n",
    "https://thredds.dataexplorer.oceanobservatories.org/thredds/catalog/ooigoldcopy/public/CE02SHSP-SP001-07-FLORTJ000-recovered_cspp-flort_sample/catalog.html?dataset=ooigoldcopy/public/CE02SHSP-SP001-07-FLORTJ000-recovered_cspp-flort_sample/deployment0013_CE02SHSP-SP001-07-FLORTJ000-recovered_cspp-flort_sample_20190624T165545.113000-20190627T023924.529000.nc"
   ],
   "id": "cc28e0b02f80e633"
  },
  {
   "metadata": {},
   "cell_type": "code",
   "source": [
    "import matplotlib.pyplot as plt\n",
    "import matplotlib.ticker as mticker\n",
    "import numpy as np\n",
    "import xarray as xr\n",
    "\n",
    "from acspype import ACSTSCor\n",
    "import acspype.processing as acsproc\n",
    "import acspype.qaqc as acsqaqc\n",
    "from acspype.experimental import estimate_chl_alh\n",
    "from acspype.utils.ooi import download_and_load_goldcopy, reformat_ooi_optaa, get_ooi_optaa_cal"
   ],
   "id": "initial_id",
   "outputs": [],
   "execution_count": null
  },
  {
   "metadata": {},
   "cell_type": "markdown",
   "source": [
    "## Reformat Data and Load Calibration/Correction Coefficients\n",
    "\n",
    "ACS data from the OOI is conveniently stored in netCDFs. However, the OOI stores the device files in a separate location than the file metadata. The device file can be accessed in its text file form (.dev) through the OOI Alfresco, but searching for the correct file can be hasslesome. Instead, we will use the OOI API to access the calibration information we need using the UID provided in the netCDF file and the calibration information that occurs closes to the first timestamp in the dataset.\n",
    "\n",
    "\n",
    "In the provided function `get_ooi_optaa_cal`, the appropriate calibration information is accessed from the API. Since the OOI does not provide all of the device file information through the API, the function also assumes a path length of 0.25m and build interpolation function for delta T. The output class attributes are in the same format as the return for an `ACSDev` object."
   ],
   "id": "8815da956989e9c"
  },
  {
   "metadata": {},
   "cell_type": "code",
   "source": [
    "acs_url = 'https://thredds.dataexplorer.oceanobservatories.org/thredds/fileServer/ooigoldcopy/public/CE02SHSP-SP001-04-OPTAAJ000-recovered_cspp-optaa_dj_cspp_instrument_recovered/deployment0013_CE02SHSP-SP001-04-OPTAAJ000-recovered_cspp-optaa_dj_cspp_instrument_recovered_20190624T165543.774000-20190627T023924.583000.nc'\n",
    "acs = download_and_load_goldcopy(acs_url)"
   ],
   "id": "23240c7dec0f7f2f",
   "outputs": [],
   "execution_count": null
  },
  {
   "metadata": {},
   "cell_type": "markdown",
   "source": [
    "The format of the OPTAA files provided by the OOI is not conducive to merging and is not compatible with acspype. The OOI provides a `wavelength` dimension in the files that is not representative of the wavelength at all. The `reformat_ooi_optaa` function will reformat the data to have the dimensions of time, a_wavelength, and c_wavelength. It will also rename some function to provide more clarity. In some OPTAA datasets, the elapsed time of the sensor is called \"elapsed_run_time\" which has units of milliseconds, while others have \"on_seconds\" which has units of seconds. The `reformat_ooi_optaa` function will also convert these variable to 'elapsed_time' in milliseconds.\n",
    "\n",
    "\n",
    "The OOI also provides nearest neighbor values for sea water temperature, sea water practical salinity, and sea water pressure, so we do not need to merge and matchup that ancillary data on our own."
   ],
   "id": "71f2475fa4078a11"
  },
  {
   "metadata": {},
   "cell_type": "code",
   "source": "dev = get_ooi_optaa_cal(acs)",
   "id": "c0ed60ef1b508bd5",
   "outputs": [],
   "execution_count": null
  },
  {
   "metadata": {},
   "cell_type": "code",
   "source": "acs = reformat_ooi_optaa(acs)",
   "id": "db2ee37de748fe7c",
   "outputs": [],
   "execution_count": null
  },
  {
   "metadata": {},
   "cell_type": "code",
   "source": [
    "print(acs.dims)\n",
    "print(acs.data_vars)"
   ],
   "id": "4e3d47c72b2fa9d2",
   "outputs": [],
   "execution_count": null
  },
  {
   "metadata": {},
   "cell_type": "markdown",
   "source": "Since we are going to reprocess the ACS data, we can drop the variables the OOI already processes.",
   "id": "61b67fd6a2e88623"
  },
  {
   "metadata": {},
   "cell_type": "code",
   "source": "acs = acs.drop_vars(['a_m_discontinuity','c_m_discontinuity'], errors = 'ignore')",
   "id": "4dd199097e9fc18e",
   "outputs": [],
   "execution_count": null
  },
  {
   "metadata": {},
   "cell_type": "markdown",
   "source": "Since all OOI OPTAA assets are currently on static platforms, the latitude, longitude, and deployment values for each file are scalar, meaning they can be assigned as dimensions rather than variables. `reformat_ooi_optaa` does this, meaning we will need to select the data by those values to produce a format that acspype can handle.",
   "id": "8e5a8073961bfef0"
  },
  {
   "metadata": {},
   "cell_type": "code",
   "source": [
    "lat = float(acs.latitude)\n",
    "lon = float(acs.longitude)\n",
    "deployment = int(acs.deployment)\n",
    "acs = acs.sel(latitude = lat, longitude = lon, deployment = deployment)"
   ],
   "id": "f9eca6fdf160bbda",
   "outputs": [],
   "execution_count": null
  },
  {
   "metadata": {},
   "cell_type": "markdown",
   "source": "The TS coefficients provided by Sullivan et al. (2006) and interpolated by SBS in the TS4.cor file have been pickled to allow for direct access through acspype and can be called by instantiating the `ACSTSCor` class. ",
   "id": "266ee49de5a65b38"
  },
  {
   "metadata": {},
   "cell_type": "code",
   "source": "tscor = ACSTSCor()",
   "id": "c7c0fb5d5d722688",
   "outputs": [],
   "execution_count": null
  },
  {
   "metadata": {},
   "cell_type": "markdown",
   "source": "## Reprocess the Data",
   "id": "7050974a98818bee"
  },
  {
   "metadata": {},
   "cell_type": "code",
   "source": [
    "acs['internal_temperature'] = acsproc.compute_internal_temperature(acs['raw_internal_temperature'])\n",
    "acs['external_temperature'] = acsproc.compute_external_temperature(acs['raw_external_temperature'])"
   ],
   "id": "409aafa0b0ca4d1",
   "outputs": [],
   "execution_count": null
  },
  {
   "metadata": {},
   "cell_type": "code",
   "source": [
    "acs['a_uncorrected'] = acsproc.compute_uncorrected(acs['a_signal'], acs['a_reference'], dev)\n",
    "acs['c_uncorrected'] = acsproc.compute_uncorrected(acs['c_signal'], acs['c_reference'], dev)"
   ],
   "id": "792496e9006b73a7",
   "outputs": [],
   "execution_count": null
  },
  {
   "metadata": {},
   "cell_type": "code",
   "source": [
    "acs['a_m_discontinuity'] = acsproc.compute_measured(acs['a_uncorrected'], 'a', acs['internal_temperature'], dev)\n",
    "acs['c_m_discontinuity'] = acsproc.compute_measured(acs['c_uncorrected'], 'c', acs['internal_temperature'], dev)"
   ],
   "id": "e0efbdb2e4953658",
   "outputs": [],
   "execution_count": null
  },
  {
   "metadata": {},
   "cell_type": "code",
   "source": [
    "discontinuity_index = acsproc.find_discontinuity_index(acs['a_wavelength'], acs['c_wavelength'])\n",
    "acs['a_m'], acs['a_discontinuity_offset'] = acsproc.discontinuity_correction(acs.a_m_discontinuity, 'a_wavelength', discontinuity_index)\n",
    "acs['c_m'], acs['c_discontinuity_offset'] = acsproc.discontinuity_correction(acs.c_m_discontinuity, 'c_wavelength', discontinuity_index)"
   ],
   "id": "eca013fe87e81c48",
   "outputs": [],
   "execution_count": null
  },
  {
   "metadata": {},
   "cell_type": "code",
   "source": [
    "acs['a_mts'] = acsproc.ts_correction(acs.a_m, 'a', acs.sea_water_temperature, acs.sea_water_practical_salinity, dev, tscor)\n",
    "acs['c_mts'] = acsproc.ts_correction(acs.c_m, 'c', acs.sea_water_temperature, acs.sea_water_practical_salinity, dev, tscor)"
   ],
   "id": "e062287abeebec59",
   "outputs": [],
   "execution_count": null
  },
  {
   "metadata": {},
   "cell_type": "code",
   "source": [
    "acs['a_mts'] = acsproc.zero_shift(acs.a_mts)\n",
    "acs['c_mts'] = acsproc.zero_shift(acs.c_mts)"
   ],
   "id": "a6e7f0d57ca81f29",
   "outputs": [],
   "execution_count": null
  },
  {
   "metadata": {},
   "cell_type": "markdown",
   "source": "## Flag Data",
   "id": "ef7e7c54b4852dad"
  },
  {
   "metadata": {},
   "cell_type": "code",
   "source": [
    "fail = 10 * 1000\n",
    "suspect = 3*60*1000\n",
    "acs['flag_elapsed_time'] = acsqaqc.elapsed_time_test(acs['elapsed_time'], fail_threshold=fail, suspect_threshold=suspect)"
   ],
   "id": "724cd4a648bb6978",
   "outputs": [],
   "execution_count": null
  },
  {
   "metadata": {},
   "cell_type": "code",
   "source": "acs['flag_internal_temperature'] = acsqaqc.internal_temperature_test(acs['internal_temperature'], dev)",
   "id": "b0f11fe874fcaa92",
   "outputs": [],
   "execution_count": null
  },
  {
   "metadata": {},
   "cell_type": "code",
   "source": [
    "acs['flag_inf_nan_a_uncorrected'] = acsqaqc.inf_nan_test(acs.a_uncorrected)\n",
    "acs['flag_inf_nan_c_uncorrected'] = acsqaqc.inf_nan_test(acs.c_uncorrected)"
   ],
   "id": "ebedfb0d863c6bef",
   "outputs": [],
   "execution_count": null
  },
  {
   "metadata": {},
   "cell_type": "markdown",
   "source": "## Remove Poor Data",
   "id": "566e9fe63d0d85e5"
  },
  {
   "metadata": {},
   "cell_type": "code",
   "source": [
    "acs = acs.where(acs.flag_elapsed_time != 4, drop = True) # Drop any and all data where the elapsed time does not pass the elapsed time test.\n",
    "acs = acs.where(acs.flag_internal_temperature != 4, drop = True)  # Drop any and all data where the internal temperature of the sensor exceeded the calibration range defined in the device file.\n",
    "acs = acs.where(acs.flag_inf_nan_a_uncorrected != 4, drop = True)  \n",
    "acs = acs.where(acs.flag_inf_nan_c_uncorrected != 4, drop = True)"
   ],
   "id": "47d46c915faa4b6c",
   "outputs": [],
   "execution_count": null
  },
  {
   "metadata": {},
   "cell_type": "code",
   "source": "acs = acsproc.interpolate_common_wavelengths(acs)",
   "id": "1aa4cc76d95ccc0",
   "outputs": [],
   "execution_count": null
  },
  {
   "metadata": {},
   "cell_type": "code",
   "source": "acs['a_mts_proportional'] = acsproc.scattering_correction_proportional(acs.a_mts, acs.c_mts)",
   "id": "58ea0fcee4a91ed",
   "outputs": [],
   "execution_count": null
  },
  {
   "metadata": {},
   "cell_type": "code",
   "source": "acs['chl_alh'] = estimate_chl_alh(acs['a_mts_proportional'])",
   "id": "2ecfcfa67d2a637",
   "outputs": [],
   "execution_count": null
  },
  {
   "metadata": {},
   "cell_type": "markdown",
   "source": [
    "# Merge with Fluorometer Data using Nearest Neighbor\n",
    "This will produce same consecutive values for the fluorometer data. "
   ],
   "id": "fad728d1723f927c"
  },
  {
   "metadata": {},
   "cell_type": "code",
   "source": [
    "flort_url = 'https://thredds.dataexplorer.oceanobservatories.org/thredds/fileServer/ooigoldcopy/public/CE02SHSP-SP001-07-FLORTJ000-recovered_cspp-flort_sample/deployment0013_CE02SHSP-SP001-07-FLORTJ000-recovered_cspp-flort_sample_20190624T165545.113000-20190627T023924.529000.nc'\n",
    "flort = download_and_load_goldcopy(flort_url)\n",
    "flort = flort.swap_dims({'obs': 'time'})\n",
    "flort = flort.drop_vars(['depth','deployment','obs'])\n",
    "flort = flort['fluorometric_chlorophyll_a']\n",
    "flort = flort.interp(time = acs.time, method = 'nearest')"
   ],
   "id": "7981ba74ca2790eb",
   "outputs": [],
   "execution_count": null
  },
  {
   "metadata": {},
   "cell_type": "code",
   "source": "acsm = xr.combine_by_coords([acs, flort], combine_attrs='drop_conflicts')",
   "id": "7f2534c8c68ee607",
   "outputs": [],
   "execution_count": null
  },
  {
   "metadata": {},
   "cell_type": "markdown",
   "source": [
    "## Split Into Profiles\n",
    "OOI profiler data is not distributed to the end-user with a unique ID for each profile. Here, lets assume that the minimum time between profiles is 15 minutes."
   ],
   "id": "f9241eb489b87bda"
  },
  {
   "metadata": {},
   "cell_type": "code",
   "source": [
    "\n",
    "def split_profiles(ds):\n",
    "    \"\"\"\n",
    "    Split the data set into individual profiles, where each profile is a\n",
    "    collection of data from a single deployment and profile sequence. The\n",
    "    resulting data sets are returned in a list.\n",
    "\n",
    "    :param ds: data set containing the profile data\n",
    "    :return: a list of data sets, one for each profile\n",
    "    \"\"\"\n",
    "    # split the data into profiles, assuming at least 120 seconds between profiles\n",
    "    dt = ds.where(ds['time'].diff('time') > np.timedelta64(120, 's'), drop=True).get_index('time')\n",
    "\n",
    "    # process each profile, adding the results to a list of profiles\n",
    "    profiles = []\n",
    "    jback = np.timedelta64(30, 's')  # 30 second jump back to avoid collecting data from the following profile\n",
    "    for i, d in enumerate(dt):\n",
    "        # pull out the profile\n",
    "        if i == 0:\n",
    "            profile = ds.sel(time=slice(ds['time'].values[0], d - jback))\n",
    "        else:\n",
    "            profile = ds.sel(time=slice(dt[i - 1], d - jback))\n",
    "\n",
    "        # add the profile to the list\n",
    "        profiles.append(profile)\n",
    "\n",
    "    # grab the last profile and append it to the list\n",
    "    profile = ds.sel(time=slice(d, ds['time'].values[-1]))\n",
    "    profiles.append(profile)\n",
    "    return profiles\n",
    "\n",
    "\n",
    "def bin_profiles(profile, site_depth, bin_size=0.25):\n",
    "    \"\"\"\n",
    "    Bin the data in the profile into a set of bins of a given size (default is\n",
    "    25 cm). The bin depth is set to the center of the bin, using the median\n",
    "    value of the data in each bin.\n",
    "\n",
    "    :param profile: data set containing the profile data\n",
    "    :param site_depth: maximum depth of the site, used to set binning range\n",
    "    :param bin_size: size of the bin, in meters\n",
    "    :return: a data set containing the binned data\n",
    "    \"\"\"\n",
    "    # test the length of the profile, short ones with less than 15 records will be skipped\n",
    "    if len(profile.time) < 15:\n",
    "        return None\n",
    "\n",
    "    # test the time range of the profile, short ones (less than 15 seconds) will be skipped\n",
    "    if (profile.time[-1] - profile.time[0]).astype(float) / 10 ** 9 < 15:\n",
    "        return None\n",
    "\n",
    "    # use a set of median boxcar filters to help despike the data\n",
    "    smth = profile.rolling(time=5, min_periods=3, center=True).median(keep_attrs=True).dropna(\"time\", subset=['deployment'])\n",
    "    smth = smth.rolling(time=5, min_periods=3, center=True).median(keep_attrs=True).dropna(\"time\", subset=['deployment'])\n",
    "\n",
    "    # bin the data using the center of the bin as the depth value\n",
    "    bins = smth.groupby_bins('depth', np.arange(bin_size / 2, site_depth + bin_size / 2, bin_size))\n",
    "    binning = []\n",
    "    for grp in bins:\n",
    "        avg = grp[1].mean('time', keepdims=True, keep_attrs=True)\n",
    "        avg = avg.assign_coords({'time': np.atleast_1d(grp[1].time.mean().values)})  # add time back\n",
    "        avg['depth'] = avg['depth'] * 0 + grp[0].mid  # set depth to bin midpoint\n",
    "        binning += avg,  # append to the list\n",
    "\n",
    "    binned = xr.concat(binning, 'time')\n",
    "    return binned\n"
   ],
   "id": "ac3ea87ee2874a63",
   "outputs": [],
   "execution_count": null
  },
  {
   "metadata": {},
   "cell_type": "code",
   "source": [
    "profiles = split_profiles(acsm)\n",
    "p = profiles[50]\n",
    "p = p.rolling({'time': 13}, center = True).median(skipna = True)"
   ],
   "id": "6805a76f0ae91fb2",
   "outputs": [],
   "execution_count": null
  },
  {
   "metadata": {},
   "cell_type": "code",
   "source": [
    "fig, ax = plt.subplots(1,1, figsize = (5,6), sharey = True, constrained_layout = True)\n",
    "\n",
    "ax.plot(p.chl_alh, p.depth, label = 'Absorption Line Height Chlorophyll-a', color = 'green',)\n",
    "ax.plot(p.fluorometric_chlorophyll_a, p.depth, label = 'Fluorometric Chlorophyll-a', color = 'black')\n",
    "ax.legend(loc = 'lower right')\n",
    "ax.set_ylim(0,70)\n",
    "ax.invert_yaxis()\n",
    "\n",
    "ax.set_xlim(-1, 45)\n",
    "\n",
    "ax.set_ylabel('Depth (m)')\n",
    "ax.set_xlabel(r'Chlorophyll-a ($\\frac{mg}{m^3}$)')\n",
    "\n",
    "ax.xaxis.set_major_locator(mticker.MultipleLocator(5))\n",
    "ax.xaxis.set_minor_locator(mticker.MultipleLocator(1))\n",
    "ax.yaxis.set_major_locator(mticker.MultipleLocator(10))\n",
    "ax.yaxis.set_minor_locator(mticker.MultipleLocator(1))\n",
    "\n",
    "ax.set_title('Profile Start: ' + p.time.min().values.astype(str)[:-6] + 'Z' + '\\nProfile End: ' + p.time.max().values.astype(str)[:-6] + 'Z')\n",
    "\n",
    "plt.savefig('ooi_ce02shsp_profile.png', dpi = 600)"
   ],
   "id": "f9637decc13680be",
   "outputs": [],
   "execution_count": null
  },
  {
   "metadata": {},
   "cell_type": "code",
   "source": "",
   "id": "8d2460908fb53b5b",
   "outputs": [],
   "execution_count": null
  }
 ],
 "metadata": {
  "kernelspec": {
   "display_name": "Python 3",
   "language": "python",
   "name": "python3"
  },
  "language_info": {
   "codemirror_mode": {
    "name": "ipython",
    "version": 2
   },
   "file_extension": ".py",
   "mimetype": "text/x-python",
   "name": "python",
   "nbconvert_exporter": "python",
   "pygments_lexer": "ipython2",
   "version": "2.7.6"
  }
 },
 "nbformat": 4,
 "nbformat_minor": 5
}
