{
 "cells": [
  {
   "metadata": {},
   "cell_type": "markdown",
   "source": [
    "# Acquire ACS Data Over Serial WITHOUT Knowledge From the Device File\n",
    "For this example, you will need to connect an ACS to your computer via serial. \n",
    "The sensor should be on before running this notebook. Note that the ACS is in picoDOS for the first 10 seconds after it is powered on and may not register on a serial port.\n",
    "\n",
    "An example for working with ACS data WITH knowledge of the device file can be found [here](https://github.com/IanTBlack/acspype/tree/main/examples).\n",
    "Collecting data from the ACS without a device file is not generally recommended, but if you are in a pinch and the device file is unknown, this is an example of how to do it.\n",
    "\n",
    "Note: In this example, absorption and attenuation will look bad because the ACS is running in air."
   ],
   "id": "6facca7087610df9"
  },
  {
   "metadata": {
    "ExecuteTime": {
     "end_time": "2025-05-07T16:52:17.300845Z",
     "start_time": "2025-05-07T16:52:16.367429Z"
    }
   },
   "cell_type": "code",
   "source": [
    "from datetime import datetime, timezone  # Used for comparing timestamps in the gap test.\n",
    "\n",
    "from acspype import ACSStream # A convenience class for reading and parsing ACS packets over serial.\n",
    "from acspype.processing import convert_sn_str # Processing and conversion functions for ACS data.\n",
    "import acspype.qaqc as acsqaqc  # QAQC functions for ACS data.\n",
    "from acspype.utils import find_acs_port # This is a convenience function that finds the first port that has an ACS attached to it."
   ],
   "id": "initial_id",
   "outputs": [],
   "execution_count": 1
  },
  {
   "metadata": {
    "ExecuteTime": {
     "end_time": "2025-05-07T16:52:17.306864Z",
     "start_time": "2025-05-07T16:52:17.302865Z"
    }
   },
   "cell_type": "code",
   "source": "num_packets = 5  # Acquire X packets, and then stop. Otherwise, the while loop will run forever.",
   "id": "736f9f3ebd20bb92",
   "outputs": [],
   "execution_count": 2
  },
  {
   "metadata": {
    "ExecuteTime": {
     "end_time": "2025-05-07T16:52:20.079980Z",
     "start_time": "2025-05-07T16:52:17.308390Z"
    }
   },
   "cell_type": "code",
   "source": [
    "port = find_acs_port()  # Find the port that has an ACS attached to it.\n",
    "with ACSStream(port) as acss: # Open an ACS serial object.\n",
    "    i = 0\n",
    "    while True:  # Continuously read the stream until a full packet is found.\n",
    "        acss.read_stream()\n",
    "        acs_pkt = acss.find_packet()\n",
    "        if acs_pkt.full_packet is not None:  # If a full packet is found, then perform operations on it.\n",
    "            parsed_packet = acss.parse_packet(acs_packet = acs_pkt) # Parse the packet.\n",
    "            \n",
    "            # Run the gap and syntax tests.\n",
    "            flag_gap = acsqaqc.gap_test(now = datetime.now(timezone.utc), \n",
    "                                        time_stmp = acs_pkt.daq_time, \n",
    "                                        buffer_length= len(acss._buffer), # The bytes in the serial buffer can be accessed with the _buffer attribute. This is probably the only application instance where you would need access to the buffer contents external of the ACSStream class.\n",
    "                                        record_length = parsed_packet.record_length)\n",
    "            flag_syntax = acsqaqc.syntax_test(full_packet = acs_pkt.full_packet)\n",
    "            \n",
    "            # Print some of the results.\n",
    "            print(f\"---------- Packet {i+1} ----------\")\n",
    "            print(f\"Acquisition Time: {parsed_packet.daq_time.strftime('%Y-%m-%dT%H:%M:%S.%f')[:-3] + 'Z'}\")\n",
    "            print(f\"Acquired Packet From: {convert_sn_str(parsed_packet.sn_int)}\")\n",
    "            print(f\"Elapsed Time (ms): {parsed_packet.elapsed_time}\")\n",
    "            print(f\"Absorption Signal Counts: {parsed_packet.a_signal}\")\n",
    "            if flag_gap == 1:\n",
    "                print('Gap Test: Passed')\n",
    "            elif flag_gap == 4:\n",
    "                print('Gap Test: Failed')\n",
    "            if flag_syntax == 1:\n",
    "                print('Syntax Test: Passed')\n",
    "            elif flag_syntax == 4:\n",
    "                print('Syntax Test: Failed')\n",
    "            print('\\n')\n",
    "            \n",
    "            i += 1\n",
    "            if i == num_packets:\n",
    "                break"
   ],
   "id": "13ea0d856beb7c69",
   "outputs": [
    {
     "name": "stdout",
     "output_type": "stream",
     "text": [
      "---------- Packet 1 ----------\n",
      "Acquisition Time: 2025-05-07T16:52:18.960Z\n",
      "Acquired Packet From: ACS-00011\n",
      "Elapsed Time (ms): 600162\n",
      "Absorption Signal Counts: (461, 530, 616, 721, 843, 980, 1126, 1303, 1504, 1739, 1995, 2238, 2505, 2803, 3143, 3490, 3882, 4284, 4733, 5254, 5798, 6343, 6966, 7576, 8197, 8833, 9428, 10114, 10867, 11581, 12306, 13143, 14015, 15062, 16136, 17156, 18204, 19172, 20257, 21285, 22130, 23083, 23979, 24937, 26066, 26843, 28833, 29708, 30552, 31260, 31968, 32581, 33247, 33901, 34227, 34406, 34526, 34559, 34487, 34332, 33902, 33220, 32454, 31577, 31151, 30820, 29901, 28917, 27943, 26823, 25759, 24691, 23475, 22087, 20719, 19577, 18503, 17327, 16147, 15034, 13932, 12945, 12028, 11091)\n",
      "Gap Test: Passed\n",
      "Syntax Test: Passed\n",
      "\n",
      "\n",
      "---------- Packet 2 ----------\n",
      "Acquisition Time: 2025-05-07T16:52:19.211Z\n",
      "Acquired Packet From: ACS-00011\n",
      "Elapsed Time (ms): 600412\n",
      "Absorption Signal Counts: (462, 532, 617, 723, 847, 979, 1128, 1305, 1504, 1740, 1995, 2239, 2506, 2804, 3145, 3490, 3882, 4283, 4731, 5254, 5799, 6344, 6964, 7575, 8197, 8834, 9430, 10111, 10866, 11584, 12308, 13145, 14016, 15062, 16140, 17153, 18205, 19172, 20256, 21288, 22133, 23082, 23979, 24937, 26069, 26846, 28833, 29710, 30548, 31265, 31969, 32579, 33250, 33902, 34228, 34409, 34528, 34562, 34489, 34335, 33904, 33223, 32460, 31577, 31154, 30821, 29899, 28919, 27946, 26825, 25763, 24693, 23478, 22088, 20721, 19581, 18506, 17326, 16151, 15033, 13933, 12948, 12029, 11094)\n",
      "Gap Test: Passed\n",
      "Syntax Test: Passed\n",
      "\n",
      "\n",
      "---------- Packet 3 ----------\n",
      "Acquisition Time: 2025-05-07T16:52:19.460Z\n",
      "Acquired Packet From: ACS-00011\n",
      "Elapsed Time (ms): 600663\n",
      "Absorption Signal Counts: (460, 531, 618, 722, 846, 981, 1127, 1304, 1504, 1740, 1994, 2239, 2507, 2804, 3145, 3490, 3883, 4286, 4731, 5252, 5800, 6342, 6966, 7574, 8196, 8836, 9429, 10114, 10870, 11582, 12308, 13146, 14015, 15065, 16141, 17155, 18209, 19174, 20259, 21289, 22133, 23085, 23982, 24937, 26071, 26844, 28834, 29710, 30553, 31266, 31972, 32582, 33250, 33903, 34231, 34410, 34529, 34564, 34490, 34335, 33906, 33224, 32461, 31578, 31155, 30823, 29904, 28922, 27949, 26826, 25763, 24690, 23480, 22093, 20721, 19580, 18506, 17328, 16150, 15033, 13935, 12950, 12030, 11094)\n",
      "Gap Test: Passed\n",
      "Syntax Test: Passed\n",
      "\n",
      "\n",
      "---------- Packet 4 ----------\n",
      "Acquisition Time: 2025-05-07T16:52:19.711Z\n",
      "Acquired Packet From: ACS-00011\n",
      "Elapsed Time (ms): 600913\n",
      "Absorption Signal Counts: (462, 532, 617, 724, 848, 981, 1128, 1307, 1506, 1742, 1997, 2240, 2507, 2804, 3146, 3492, 3883, 4285, 4734, 5255, 5803, 6343, 6969, 7576, 8198, 8835, 9429, 10114, 10872, 11584, 12309, 13149, 14016, 15067, 16138, 17157, 18210, 19173, 20259, 21289, 22133, 23087, 23982, 24937, 26074, 26846, 28839, 29708, 30552, 31266, 31971, 32583, 33247, 33902, 34231, 34410, 34530, 34563, 34490, 34333, 33906, 33226, 32458, 31579, 31156, 30822, 29905, 28923, 27948, 26830, 25762, 24694, 23481, 22089, 20723, 19581, 18507, 17327, 16148, 15035, 13934, 12948, 12033, 11092)\n",
      "Gap Test: Passed\n",
      "Syntax Test: Passed\n",
      "\n",
      "\n",
      "---------- Packet 5 ----------\n",
      "Acquisition Time: 2025-05-07T16:52:19.961Z\n",
      "Acquired Packet From: ACS-00011\n",
      "Elapsed Time (ms): 601162\n",
      "Absorption Signal Counts: (463, 531, 620, 722, 847, 981, 1129, 1306, 1507, 1743, 1996, 2240, 2510, 2804, 3146, 3492, 3884, 4285, 4734, 5255, 5802, 6344, 6968, 7576, 8199, 8836, 9429, 10116, 10871, 11585, 12310, 13145, 14017, 15068, 16138, 17157, 18207, 19173, 20261, 21290, 22132, 23088, 23982, 24936, 26075, 26844, 28838, 29707, 30554, 31265, 31968, 32583, 33250, 33902, 34230, 34410, 34528, 34563, 34490, 34334, 33905, 33226, 32459, 31578, 31156, 30821, 29905, 28923, 27944, 26830, 25761, 24691, 23483, 22090, 20721, 19581, 18507, 17330, 16149, 15036, 13936, 12951, 12032, 11097)\n",
      "Gap Test: Passed\n",
      "Syntax Test: Passed\n",
      "\n",
      "\n"
     ]
    }
   ],
   "execution_count": 3
  }
 ],
 "metadata": {
  "kernelspec": {
   "display_name": "Python 3",
   "language": "python",
   "name": "python3"
  },
  "language_info": {
   "codemirror_mode": {
    "name": "ipython",
    "version": 2
   },
   "file_extension": ".py",
   "mimetype": "text/x-python",
   "name": "python",
   "nbconvert_exporter": "python",
   "pygments_lexer": "ipython2",
   "version": "2.7.6"
  }
 },
 "nbformat": 4,
 "nbformat_minor": 5
}
